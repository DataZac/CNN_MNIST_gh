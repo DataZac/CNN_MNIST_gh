{
 "cells": [
  {
   "cell_type": "code",
   "execution_count": null,
   "metadata": {
    "collapsed": true
   },
   "outputs": [],
   "source": [
    "%matplotlib inline\n",
    "import matplotlib.pyplot as plt\n",
    "import tensorflow as tf\n",
    "import numpy as np\n",
    "from sklearn.metrics import confusion_matrix\n",
    "import time\n",
    "from datetime import timedelta\n",
    "import math\n",
    "def jt_p(string, value):\n",
    "    try:\n",
    "        str(value)\n",
    "        print('\\n {:<50} {:>50}\\n'.format('- '+string+':', value))\n",
    "    except:\n",
    "        print('\\n {:<50} {:>50}\\n'.format('- '+string+':', value))\n",
    "\n",
    "tf.__version__"
   ]
  },
  {
   "cell_type": "code",
   "execution_count": null,
   "metadata": {
    "collapsed": true
   },
   "outputs": [],
   "source": [
    "data = input_data.read_data_sets(\"MNIST_data/\", one_hot=True)\n",
    "\n",
    "# investigate dataset\n",
    "#\n",
    "print(\"Size of:\")\n",
    "print(\"- Training-set:\\t\\t{}\".format(len(data.train.labels)))\n",
    "print(\"- Test-set:\\t\\t{}\".format(len(data.test.labels)))\n",
    "print(\"- Validation-set:\\t{}\".format(len(data.validation.labels)))\n",
    "print(\"- First  label:\\t{}\".format(data.train.labels[0]))\n",
    "\n",
    "\n",
    "# convert one-hot-encoding to actual numbers. cls means class labels, i.e. 9 for the image of a 9 !\n",
    "#\n",
    "data.test.cls = np.array([label.argmax() for  label in data.test.labels]) # argm. returns pos of the max argument of array\n",
    "\n",
    "# define some constants\n",
    "#\n",
    "img_size = 28\n",
    "img_size_flat = img_size * img_size\n",
    "img_shape = (img_size, img_size)\n",
    "num_classes = 10\n",
    "      \n",
    "\n",
    "jt_p('data.test.images[0:9]',str(data.test.images[0:9]))\n",
    "plot_images(data.test.images[0:9], data.test.cls[0:9], cls_pred = None)"
   ]
  },
  {
   "cell_type": "code",
   "execution_count": null,
   "metadata": {
    "collapsed": true
   },
   "outputs": [],
   "source": [
    "# Convolutional Layer 1.\n",
    "filter_size1 = 5          # Convolution filters are 5 x 5 pixels.\n",
    "num_filters1 = 16         # There are 16 of these filters.\n",
    "\n",
    "# Convolutional Layer 2.\n",
    "filter_size2 = 5          # Convolution filters are 5 x 5 pixels.\n",
    "num_filters2 = 36         # There are 36 of these filters.\n",
    "\n",
    "# Fully-connected layer.\n",
    "fc_size = 128             # Number of neurons in fully-connected layer."
   ]
  },
  {
   "cell_type": "code",
   "execution_count": null,
   "metadata": {
    "collapsed": true
   },
   "outputs": [],
   "source": [
    "'''\n",
    "Steps of building a tensorflowgraph:\n",
    "1. Make placeholder variables for tensors for the image data\n",
    "2. Make model variables e.g. weights, biases, kernels,...\n",
    "3. Make the model, i.e. define the NN architecture\n",
    "4. Define A cost measure that can be optimized\n",
    "5. Chose an ptimization method\n",
    "6. Define performance measures, analytics functions etc (in the graph).\n",
    "\n",
    "Run the graph:\n",
    "Create a Session\n",
    "'''"
   ]
  },
  {
   "cell_type": "code",
   "execution_count": null,
   "metadata": {
    "collapsed": true
   },
   "outputs": [],
   "source": []
  },
  {
   "cell_type": "code",
   "execution_count": null,
   "metadata": {
    "collapsed": true
   },
   "outputs": [],
   "source": []
  }
 ],
 "metadata": {
  "anaconda-cloud": {},
  "kernelspec": {
   "display_name": "Python [conda env:tensorflow]",
   "language": "python",
   "name": "conda-env-tensorflow-py"
  },
  "language_info": {
   "codemirror_mode": {
    "name": "ipython",
    "version": 3
   },
   "file_extension": ".py",
   "mimetype": "text/x-python",
   "name": "python",
   "nbconvert_exporter": "python",
   "pygments_lexer": "ipython3",
   "version": "3.5.4"
  }
 },
 "nbformat": 4,
 "nbformat_minor": 1
}
